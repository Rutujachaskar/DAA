{
 "cells": [
  {
   "cell_type": "code",
   "execution_count": 1,
   "id": "a43be561-f104-4595-9c6a-fb780357b76e",
   "metadata": {},
   "outputs": [
    {
     "name": "stdin",
     "output_type": "stream",
     "text": [
      "Enter number of jobs:  4\n",
      "Enter 4 deadlines separated by space:  2 1 1 2\n",
      "Enter 4 profits separated by space:  100 20 15 20\n"
     ]
    },
    {
     "name": "stdout",
     "output_type": "stream",
     "text": [
      "Maximum number of jobs that can be done: 2\n",
      "Maximum total profit: 120\n"
     ]
    }
   ],
   "source": [
    "import heapq\n",
    "\n",
    "def jobSequencing(deadline, profit):\n",
    "    n = len(deadline)\n",
    "    ans = [0, 0]  # [number of jobs done, total profit]\n",
    "    \n",
    "    # Pair deadlines and profits\n",
    "    jobs = [(deadline[i], profit[i]) for i in range(n)]\n",
    "    \n",
    "    # Sort jobs by deadline\n",
    "    jobs.sort()\n",
    "    \n",
    "    pq = []  # Min-heap to keep track of selected jobs' profits\n",
    "    \n",
    "    for job in jobs:\n",
    "        if job[0] > len(pq):\n",
    "            heapq.heappush(pq, job[1])\n",
    "        elif pq and pq[0] < job[1]:\n",
    "            heapq.heappop(pq)\n",
    "            heapq.heappush(pq, job[1])\n",
    "    \n",
    "    while pq:\n",
    "        ans[1] += heapq.heappop(pq)\n",
    "        ans[0] += 1\n",
    "    \n",
    "    return ans\n",
    "\n",
    "# ---- USER INPUT ----\n",
    "n = int(input(\"Enter number of jobs: \"))\n",
    "\n",
    "deadline = list(map(int, input(f\"Enter {n} deadlines separated by space: \").split()))\n",
    "profit = list(map(int, input(f\"Enter {n} profits separated by space: \").split()))\n",
    "\n",
    "if len(deadline) != n or len(profit) != n:\n",
    "    print(\"Error: Number of deadlines or profits does not match the number of jobs.\")\n",
    "else:\n",
    "    ans = jobSequencing(deadline, profit)\n",
    "    print(\"Maximum number of jobs that can be done:\", ans[0])\n",
    "    print(\"Maximum total profit:\", ans[1])\n"
   ]
  },
  {
   "cell_type": "code",
   "execution_count": null,
   "id": "ab85ff57-473d-4df6-857c-7f3a50f0ee6b",
   "metadata": {},
   "outputs": [],
   "source": []
  }
 ],
 "metadata": {
  "kernelspec": {
   "display_name": "Python 3 (ipykernel)",
   "language": "python",
   "name": "python3"
  },
  "language_info": {
   "codemirror_mode": {
    "name": "ipython",
    "version": 3
   },
   "file_extension": ".py",
   "mimetype": "text/x-python",
   "name": "python",
   "nbconvert_exporter": "python",
   "pygments_lexer": "ipython3",
   "version": "3.12.6"
  }
 },
 "nbformat": 4,
 "nbformat_minor": 5
}
