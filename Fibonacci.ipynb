{
 "cells": [
  {
   "cell_type": "code",
   "execution_count": 2,
   "id": "2ab4f58e-aab8-49cf-aacf-0c49d1f11b50",
   "metadata": {},
   "outputs": [
    {
     "name": "stdin",
     "output_type": "stream",
     "text": [
      "Enter the position of fibonacci number:  2\n"
     ]
    },
    {
     "name": "stdout",
     "output_type": "stream",
     "text": [
      "The fibonacci no at 2 is 1\n",
      "The total steps required are: 3\n"
     ]
    }
   ],
   "source": [
    "step_count=0\n",
    "def fibo_recursive(n):\n",
    "    global step_count\n",
    "    step_count+=1\n",
    "    if n<=1:\n",
    "        return n\n",
    "    else:\n",
    "        return fibo_recursive(n-1)+fibo_recursive(n-2)\n",
    "\n",
    "n=int(input(\"Enter the position of fibonacci number: \"))\n",
    "\n",
    "result=fibo_recursive(n)\n",
    "print(f\"The fibonacci no at {n} is {result}\")\n",
    "print(f\"The total steps required are: {step_count}\")\n"
   ]
  },
  {
   "cell_type": "code",
   "execution_count": 7,
   "id": "cb526f6a-0f8d-490c-a529-d4092de407e8",
   "metadata": {},
   "outputs": [
    {
     "name": "stdin",
     "output_type": "stream",
     "text": [
      "Enter the position of fibonacci number:  6\n"
     ]
    },
    {
     "name": "stdout",
     "output_type": "stream",
     "text": [
      "Fibonacci number at 6 is 8\n",
      "Steps are:6\n"
     ]
    }
   ],
   "source": [
    "def fibo_iterative(n):\n",
    "    step_count=0\n",
    "    a,b=0,1\n",
    "    for i in range(n):\n",
    "        a,b=b,a+b\n",
    "        step_count+=1\n",
    "    return a,step_count\n",
    "\n",
    "n==int(input(\"Enter the position of fibonacci number: \"))\n",
    "step_count=0\n",
    "result,steps=fibo_iterative(n)\n",
    "print(f\"Fibonacci number at {n} is {result}\")\n",
    "print(f\"Steps are:{steps}\")"
   ]
  },
  {
   "cell_type": "code",
   "execution_count": null,
   "id": "d51b3547-fa7d-4b7d-a049-33e06d502bf3",
   "metadata": {},
   "outputs": [],
   "source": []
  }
 ],
 "metadata": {
  "kernelspec": {
   "display_name": "Python 3 (ipykernel)",
   "language": "python",
   "name": "python3"
  },
  "language_info": {
   "codemirror_mode": {
    "name": "ipython",
    "version": 3
   },
   "file_extension": ".py",
   "mimetype": "text/x-python",
   "name": "python",
   "nbconvert_exporter": "python",
   "pygments_lexer": "ipython3",
   "version": "3.12.6"
  }
 },
 "nbformat": 4,
 "nbformat_minor": 5
}
