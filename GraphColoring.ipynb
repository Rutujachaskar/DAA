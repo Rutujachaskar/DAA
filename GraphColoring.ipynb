{
 "cells": [
  {
   "cell_type": "code",
   "execution_count": null,
   "id": "6925fa61-8062-4f70-917d-8a9680f6431b",
   "metadata": {},
   "outputs": [],
   "source": [
    "def is_safe(node, graph, color, c):\n",
    "    for i in range(len(graph)):\n",
    "        if graph[node][i] == 1 and color[i] == c:\n",
    "            return False\n",
    "    return True\n",
    "\n",
    "def graph_coloring(graph, m, color, node):\n",
    "    if node == len(graph):\n",
    "        return True\n",
    "\n",
    "    for c in range(1, m + 1):\n",
    "        if is_safe(node, graph, color, c):\n",
    "            color[node] = c\n",
    "            if graph_coloring(graph, m, color, node + 1):\n",
    "                return True\n",
    "            color[node] = 0\n",
    "    return False\n",
    "\n",
    "def solve_graph_coloring(graph, m):\n",
    "    color = [0] * len(graph)\n",
    "    if not graph_coloring(graph, m, color, 0):\n",
    "        print(\"No solution exists\")\n",
    "    else:\n",
    "        print(\"Color Assignments to Nodes:\")\n",
    "        for i in range(len(graph)):\n",
    "            print(f\"Node {i} ---> Color {color[i]}\")\n",
    "\n",
    "# Taking input from user\n",
    "n = int(input(\"Enter the number of nodes in the graph: \"))\n",
    "print(\"Enter the adjacency matrix (row-wise, space-separated):\")\n",
    "graph = []\n",
    "for i in range(n):\n",
    "    row = list(map(int, input(f\"Row {i + 1}: \").strip().split()))\n",
    "    if len(row) != n:\n",
    "        print(f\"Please enter exactly {n} values.\")\n",
    "        exit()\n",
    "    graph.append(row)\n",
    "\n",
    "m = int(input(\"Enter the number of colors available: \"))\n",
    "\n",
    "solve_graph_coloring(graph, m)\n"
   ]
  }
 ],
 "metadata": {
  "kernelspec": {
   "display_name": "Python 3 (ipykernel)",
   "language": "python",
   "name": "python3"
  },
  "language_info": {
   "codemirror_mode": {
    "name": "ipython",
    "version": 3
   },
   "file_extension": ".py",
   "mimetype": "text/x-python",
   "name": "python",
   "nbconvert_exporter": "python",
   "pygments_lexer": "ipython3",
   "version": "3.12.6"
  }
 },
 "nbformat": 4,
 "nbformat_minor": 5
}
