{
 "cells": [
  {
   "cell_type": "code",
   "execution_count": 5,
   "id": "41d036fb-39a2-4745-854b-2f27bdeecda8",
   "metadata": {},
   "outputs": [
    {
     "name": "stdin",
     "output_type": "stream",
     "text": [
      "Enter number of values 4\n",
      "Enter 4  values separated by space 10 40 20 50\n",
      "Enter maximum knapsack capacity 20\n",
      "Enter 4  weights separated by space 5 10 4 5\n"
     ]
    },
    {
     "data": {
      "text/plain": [
       "112.0"
      ]
     },
     "execution_count": 5,
     "metadata": {},
     "output_type": "execute_result"
    }
   ],
   "source": [
    "def fractional_knapsack(values,weights,W):\n",
    "    n=len(values)\n",
    "    ratios=[(values[i]/weights[i],values[i],weights[i])for i in range(n)]\n",
    "    ratios.sort(reverse=True)\n",
    "    total_value=0\n",
    "    curr_weight=0\n",
    "    for ratio,value,weight in ratios:\n",
    "        if curr_weight+weight<=W:\n",
    "            curr_weight+=weight\n",
    "            total_value+=value\n",
    "        else:\n",
    "            fraction=(W-curr_weight)/weight\n",
    "            total_value+=value*fraction\n",
    "            break\n",
    "    return total_value\n",
    "\n",
    "n=int(input(\"Enter number of values\"))\n",
    "values=list(map(int,input(f\"Enter {n}  values separated by space\").split()))\n",
    "W=int(input(\"Enter maximum knapsack capacity\"))\n",
    "weights=list(map(int,input(f\"Enter {n}  weights separated by space\").split()))\n",
    "fractional_knapsack(values,weights,W)\n",
    "        "
   ]
  },
  {
   "cell_type": "code",
   "execution_count": null,
   "id": "ab9c210a-0c90-4e22-a9d2-d10e02a5ffda",
   "metadata": {},
   "outputs": [],
   "source": []
  }
 ],
 "metadata": {
  "kernelspec": {
   "display_name": "Python 3 (ipykernel)",
   "language": "python",
   "name": "python3"
  },
  "language_info": {
   "codemirror_mode": {
    "name": "ipython",
    "version": 3
   },
   "file_extension": ".py",
   "mimetype": "text/x-python",
   "name": "python",
   "nbconvert_exporter": "python",
   "pygments_lexer": "ipython3",
   "version": "3.12.6"
  }
 },
 "nbformat": 4,
 "nbformat_minor": 5
}
