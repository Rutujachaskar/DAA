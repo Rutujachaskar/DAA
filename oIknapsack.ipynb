{
 "cells": [
  {
   "cell_type": "code",
   "execution_count": 2,
   "id": "1075c1fa-2d90-4dca-9559-4d1cc226d7de",
   "metadata": {},
   "outputs": [
    {
     "name": "stdin",
     "output_type": "stream",
     "text": [
      "Enter total number of items: 4\n",
      "Enter values for 4 for items: 10 20 40 100\n",
      "Enter weights for 4 for items: 2 2 5 40\n",
      "Enter total knapsack capacity 20\n"
     ]
    },
    {
     "name": "stdout",
     "output_type": "stream",
     "text": [
      "70\n"
     ]
    }
   ],
   "source": [
    "#0/1 Knapsack \n",
    "def knapsack(W,val,wt):\n",
    "    n=len(wt)\n",
    "    dp=[[0 for _ in range(W+1)]for _ in range(n+1)]\n",
    "    for i in range(n+1):\n",
    "        for j in range(W+1):\n",
    "            if i==0 or j==0:\n",
    "                dp[i][j]=0\n",
    "            else:\n",
    "                pick=0\n",
    "                if(wt[i-1]<=j):\n",
    "                    pick=val[i-1]+dp[i-1][j-wt[i-1]]\n",
    "                notpick=dp[i-1][j]\n",
    "                dp[i][j]=max(pick,notpick)\n",
    "    return dp[n][W]\n",
    "\n",
    "n=int(input(\"Enter total number of items:\"))\n",
    "val=list(map(int,input(f\"Enter values for {n} items:\").split()))\n",
    "wt=list(map(int,input(f\"Enter weights for {n} items:\").split()))\n",
    "W=int(input(\"Enter total knapsack capacity\"))\n",
    "print(knapsack(W,val,wt))"
   ]
  },
  {
   "cell_type": "code",
   "execution_count": null,
   "id": "3d9ff853-d14a-4bff-9501-4936ec5d1ac8",
   "metadata": {},
   "outputs": [],
   "source": []
  }
 ],
 "metadata": {
  "kernelspec": {
   "display_name": "Python 3 (ipykernel)",
   "language": "python",
   "name": "python3"
  },
  "language_info": {
   "codemirror_mode": {
    "name": "ipython",
    "version": 3
   },
   "file_extension": ".py",
   "mimetype": "text/x-python",
   "name": "python",
   "nbconvert_exporter": "python",
   "pygments_lexer": "ipython3",
   "version": "3.12.6"
  }
 },
 "nbformat": 4,
 "nbformat_minor": 5
}
